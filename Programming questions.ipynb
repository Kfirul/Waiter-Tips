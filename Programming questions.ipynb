{
 "cells": [
  {
   "cell_type": "code",
   "execution_count": 73,
   "id": "7a4c878d",
   "metadata": {},
   "outputs": [],
   "source": [
    "def decToBinary(num):\n",
    "    i = 1\n",
    "    binary = 0\n",
    "\n",
    "    while (num > 0):\n",
    "        binary = ((num % 2) * i) + binary\n",
    "        num = num // 2\n",
    "        i = i * 10\n",
    "\n",
    "    print(\"Binary: \", binary)\n"
   ]
  },
  {
   "cell_type": "code",
   "execution_count": 60,
   "id": "35e1544a",
   "metadata": {},
   "outputs": [],
   "source": [
    "def decToHexa(num):\n",
    "    conversion_table = {0: '0', 1: '1', 2: '2', 3: '3', 4: '4',\n",
    "                    5: '5', 6: '6', 7: '7',\n",
    "                    8: '8', 9: '9', 10: 'A', 11: 'B', 12: 'C',\n",
    "                    13: 'D', 14: 'E', 15: 'F'}\n",
    "    hexa = ''\n",
    "    \n",
    "    while(num > 0):\n",
    "        remainder = num % 16\n",
    "        hexa = conversion_table[remainder] + hexa\n",
    "        num = num // 16\n",
    "  \n",
    "    print(\"HexaDecimal: \", hexa)"
   ]
  },
  {
   "cell_type": "code",
   "execution_count": 70,
   "id": "89a93d9f",
   "metadata": {},
   "outputs": [],
   "source": [
    "def decToOctli(num):\n",
    "    i=1\n",
    "    oct=0\n",
    "    \n",
    "    while(num > 0):\n",
    "        oct = oct + ((num % 8) * i)\n",
    "        num = num // 8 \n",
    "        i=i*10\n",
    "        \n",
    "    print(\"Octli: \",oct)    "
   ]
  },
  {
   "cell_type": "code",
   "execution_count": 78,
   "id": "a55f52e5",
   "metadata": {},
   "outputs": [
    {
     "name": "stdout",
     "output_type": "stream",
     "text": [
      "Please enter a number  24\n",
      "Binary:  11000\n",
      "HexaDecimal:  18\n",
      "Octli:  30\n"
     ]
    }
   ],
   "source": [
    "decNumber=int(input(\"Please enter a number  \"))\n",
    "decToBinary(decNumber)\n",
    "decToHexa(decNumber)\n",
    "decToOctli(decNumber)"
   ]
  },
  {
   "cell_type": "code",
   "execution_count": null,
   "id": "f0552bc0",
   "metadata": {},
   "outputs": [],
   "source": []
  }
 ],
 "metadata": {
  "kernelspec": {
   "display_name": "Python 3",
   "language": "python",
   "name": "python3"
  },
  "language_info": {
   "codemirror_mode": {
    "name": "ipython",
    "version": 3
   },
   "file_extension": ".py",
   "mimetype": "text/x-python",
   "name": "python",
   "nbconvert_exporter": "python",
   "pygments_lexer": "ipython3",
   "version": "3.8.8"
  }
 },
 "nbformat": 4,
 "nbformat_minor": 5
}
